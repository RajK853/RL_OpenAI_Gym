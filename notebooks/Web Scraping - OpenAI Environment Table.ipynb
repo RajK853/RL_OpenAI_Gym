{
 "cells": [
  {
   "cell_type": "markdown",
   "metadata": {},
   "source": [
    "# Web Scraping - OpenAI Gym Environment Table\n",
    "This notebook downloads the table with information about the OpenAI Gym environment in [this](https://github.com/openai/gym/wiki/Table-of-environments) website.\n",
    "\n",
    "> We use `beautifulsoup4` for the web scraping. Therefore, install it if required. "
   ]
  },
  {
   "cell_type": "code",
   "execution_count": null,
   "metadata": {
    "scrolled": false
   },
   "outputs": [],
   "source": [
    "!pip install requests beautifulsoup4 "
   ]
  },
  {
   "cell_type": "markdown",
   "metadata": {},
   "source": [
    "## Imports"
   ]
  },
  {
   "cell_type": "code",
   "execution_count": 1,
   "metadata": {},
   "outputs": [],
   "source": [
    "import os\n",
    "import urllib\n",
    "import numpy as np\n",
    "import pandas as pd\n",
    "from bs4 import BeautifulSoup"
   ]
  },
  {
   "cell_type": "markdown",
   "metadata": {},
   "source": [
    "## Global variables"
   ]
  },
  {
   "cell_type": "code",
   "execution_count": 2,
   "metadata": {},
   "outputs": [],
   "source": [
    "url = r\"https://github.com/openai/gym/wiki/Table-of-environments\"\n",
    "current_dir = os.getcwd()\n",
    "dump_dir = os.path.join(os.path.dirname(current_dir), \"assets\")\n",
    "save_file = os.path.join(dump_dir, \"env_info.csv\")"
   ]
  },
  {
   "cell_type": "markdown",
   "metadata": {},
   "source": [
    "## Load the contents from the website"
   ]
  },
  {
   "cell_type": "code",
   "execution_count": 3,
   "metadata": {},
   "outputs": [],
   "source": [
    "client = urllib.request.urlopen(url)\n",
    "soup = BeautifulSoup(client, 'html.parser')"
   ]
  },
  {
   "cell_type": "markdown",
   "metadata": {},
   "source": [
    "Extract the table from the web contents."
   ]
  },
  {
   "cell_type": "code",
   "execution_count": 4,
   "metadata": {},
   "outputs": [],
   "source": [
    "table = soup.find(name=\"table\", attrs={\"role\": \"table\"})"
   ]
  },
  {
   "cell_type": "markdown",
   "metadata": {},
   "source": [
    "## Preprocessing table contents\n",
    "1. Load all table row contents.\n",
    "2. Split the table into column names and data.\n",
    "3. ~~Determine data type for each columns as one of the followings: string, integer or float.~~"
   ]
  },
  {
   "cell_type": "code",
   "execution_count": 5,
   "metadata": {},
   "outputs": [],
   "source": [
    "def isNum(string):\n",
    "    signs = (\"-\", \".\")\n",
    "    for char in string:\n",
    "        if not (char in signs or char.isnumeric()):\n",
    "            return False\n",
    "    return True"
   ]
  },
  {
   "cell_type": "code",
   "execution_count": 6,
   "metadata": {
    "scrolled": false
   },
   "outputs": [],
   "source": [
    "raw_data = [header.text.strip(\"\\n\").split(\"\\n\") for header in table.find_all(\"tr\")]\n",
    "columns = raw_data.pop(0)\n",
    "raw_data = np.array(raw_data)\n",
    "# dtypes = [type(eval(val)) if isNum(val) else str for val in raw_data[0]]"
   ]
  },
  {
   "cell_type": "markdown",
   "metadata": {},
   "source": [
    "## Create pandas.DataFrame from the table data"
   ]
  },
  {
   "cell_type": "code",
   "execution_count": 7,
   "metadata": {},
   "outputs": [
    {
     "data": {
      "text/html": [
       "<div>\n",
       "<style scoped>\n",
       "    .dataframe tbody tr th:only-of-type {\n",
       "        vertical-align: middle;\n",
       "    }\n",
       "\n",
       "    .dataframe tbody tr th {\n",
       "        vertical-align: top;\n",
       "    }\n",
       "\n",
       "    .dataframe thead th {\n",
       "        text-align: right;\n",
       "    }\n",
       "</style>\n",
       "<table border=\"1\" class=\"dataframe\">\n",
       "  <thead>\n",
       "    <tr style=\"text-align: right;\">\n",
       "      <th></th>\n",
       "      <th>Environment Id</th>\n",
       "      <th>Observation Space</th>\n",
       "      <th>Action Space</th>\n",
       "      <th>Reward Range</th>\n",
       "      <th>tStepL</th>\n",
       "      <th>Trials</th>\n",
       "      <th>rThresh</th>\n",
       "    </tr>\n",
       "  </thead>\n",
       "  <tbody>\n",
       "    <tr>\n",
       "      <th>0</th>\n",
       "      <td>MountainCar-v0</td>\n",
       "      <td>Box(2,)</td>\n",
       "      <td>Discrete(3)</td>\n",
       "      <td>(-inf, inf)</td>\n",
       "      <td>200</td>\n",
       "      <td>100</td>\n",
       "      <td>-110.0</td>\n",
       "    </tr>\n",
       "    <tr>\n",
       "      <th>1</th>\n",
       "      <td>MountainCarContinuous-v0</td>\n",
       "      <td>Box(2,)</td>\n",
       "      <td>Box(1,)</td>\n",
       "      <td>(-inf, inf)</td>\n",
       "      <td>999</td>\n",
       "      <td>100</td>\n",
       "      <td>90.0</td>\n",
       "    </tr>\n",
       "    <tr>\n",
       "      <th>2</th>\n",
       "      <td>Pendulum-v0</td>\n",
       "      <td>Box(3,)</td>\n",
       "      <td>Box(1,)</td>\n",
       "      <td>(-inf, inf)</td>\n",
       "      <td>200</td>\n",
       "      <td>100</td>\n",
       "      <td>None</td>\n",
       "    </tr>\n",
       "    <tr>\n",
       "      <th>3</th>\n",
       "      <td>CartPole-v0</td>\n",
       "      <td>Box(4,)</td>\n",
       "      <td>Discrete(2)</td>\n",
       "      <td>(-inf, inf)</td>\n",
       "      <td>200</td>\n",
       "      <td>100</td>\n",
       "      <td>195.0</td>\n",
       "    </tr>\n",
       "    <tr>\n",
       "      <th>4</th>\n",
       "      <td>CartPole-v1</td>\n",
       "      <td>Box(4,)</td>\n",
       "      <td>Discrete(2)</td>\n",
       "      <td>(-inf, inf)</td>\n",
       "      <td>500</td>\n",
       "      <td>100</td>\n",
       "      <td>475.0</td>\n",
       "    </tr>\n",
       "    <tr>\n",
       "      <th>...</th>\n",
       "      <td>...</td>\n",
       "      <td>...</td>\n",
       "      <td>...</td>\n",
       "      <td>...</td>\n",
       "      <td>...</td>\n",
       "      <td>...</td>\n",
       "      <td>...</td>\n",
       "    </tr>\n",
       "    <tr>\n",
       "      <th>771</th>\n",
       "      <td>FrozenLake8x8-v0</td>\n",
       "      <td>Discrete(64)</td>\n",
       "      <td>Discrete(4)</td>\n",
       "      <td>(0, 1)</td>\n",
       "      <td>200</td>\n",
       "      <td>100</td>\n",
       "      <td>0.99</td>\n",
       "    </tr>\n",
       "    <tr>\n",
       "      <th>772</th>\n",
       "      <td>Taxi-v2</td>\n",
       "      <td>Discrete(500)</td>\n",
       "      <td>Discrete(6)</td>\n",
       "      <td>(-inf, inf)</td>\n",
       "      <td>200</td>\n",
       "      <td>100</td>\n",
       "      <td>8</td>\n",
       "    </tr>\n",
       "    <tr>\n",
       "      <th>773</th>\n",
       "      <td>KellyCoinflipGeneralized-v0</td>\n",
       "      <td>Tuple(Box(1,), Discrete(283), Discrete(283), D...</td>\n",
       "      <td>Discrete(28800)</td>\n",
       "      <td>(0, 288.0)</td>\n",
       "      <td>None</td>\n",
       "      <td>100</td>\n",
       "      <td>None</td>\n",
       "    </tr>\n",
       "    <tr>\n",
       "      <th>774</th>\n",
       "      <td>KellyCoinflip-v0</td>\n",
       "      <td>Tuple(Box(1,), Discrete(301))</td>\n",
       "      <td>Discrete(25000)</td>\n",
       "      <td>(0, 250.0)</td>\n",
       "      <td>None</td>\n",
       "      <td>100</td>\n",
       "      <td>246.61</td>\n",
       "    </tr>\n",
       "    <tr>\n",
       "      <th>775</th>\n",
       "      <td>Blackjack-v0</td>\n",
       "      <td>Tuple(Discrete(32), Discrete(11), Discrete(2))</td>\n",
       "      <td>Discrete(2)</td>\n",
       "      <td>(-inf, inf)</td>\n",
       "      <td>None</td>\n",
       "      <td>100</td>\n",
       "      <td>None</td>\n",
       "    </tr>\n",
       "  </tbody>\n",
       "</table>\n",
       "<p>776 rows × 7 columns</p>\n",
       "</div>"
      ],
      "text/plain": [
       "                  Environment Id  \\\n",
       "0                 MountainCar-v0   \n",
       "1       MountainCarContinuous-v0   \n",
       "2                    Pendulum-v0   \n",
       "3                    CartPole-v0   \n",
       "4                    CartPole-v1   \n",
       "..                           ...   \n",
       "771             FrozenLake8x8-v0   \n",
       "772                      Taxi-v2   \n",
       "773  KellyCoinflipGeneralized-v0   \n",
       "774             KellyCoinflip-v0   \n",
       "775                 Blackjack-v0   \n",
       "\n",
       "                                     Observation Space     Action Space  \\\n",
       "0                                              Box(2,)      Discrete(3)   \n",
       "1                                              Box(2,)          Box(1,)   \n",
       "2                                              Box(3,)          Box(1,)   \n",
       "3                                              Box(4,)      Discrete(2)   \n",
       "4                                              Box(4,)      Discrete(2)   \n",
       "..                                                 ...              ...   \n",
       "771                                       Discrete(64)      Discrete(4)   \n",
       "772                                      Discrete(500)      Discrete(6)   \n",
       "773  Tuple(Box(1,), Discrete(283), Discrete(283), D...  Discrete(28800)   \n",
       "774                      Tuple(Box(1,), Discrete(301))  Discrete(25000)   \n",
       "775     Tuple(Discrete(32), Discrete(11), Discrete(2))      Discrete(2)   \n",
       "\n",
       "    Reward Range tStepL Trials rThresh  \n",
       "0    (-inf, inf)    200    100  -110.0  \n",
       "1    (-inf, inf)    999    100    90.0  \n",
       "2    (-inf, inf)    200    100    None  \n",
       "3    (-inf, inf)    200    100   195.0  \n",
       "4    (-inf, inf)    500    100   475.0  \n",
       "..           ...    ...    ...     ...  \n",
       "771       (0, 1)    200    100    0.99  \n",
       "772  (-inf, inf)    200    100       8  \n",
       "773   (0, 288.0)   None    100    None  \n",
       "774   (0, 250.0)   None    100  246.61  \n",
       "775  (-inf, inf)   None    100    None  \n",
       "\n",
       "[776 rows x 7 columns]"
      ]
     },
     "execution_count": 7,
     "metadata": {},
     "output_type": "execute_result"
    }
   ],
   "source": [
    "data_dict = {col: raw_data[:, i] for i, col in enumerate(columns)}\n",
    "df = pd.DataFrame(data_dict)\n",
    "df"
   ]
  },
  {
   "cell_type": "markdown",
   "metadata": {},
   "source": [
    "## Save pandas.DataFrame as a CSV file"
   ]
  },
  {
   "cell_type": "code",
   "execution_count": null,
   "metadata": {},
   "outputs": [],
   "source": [
    "df.to_csv(save_file, index=False)"
   ]
  }
 ],
 "metadata": {
  "kernelspec": {
   "display_name": "Python 3",
   "language": "python",
   "name": "python3"
  },
  "language_info": {
   "codemirror_mode": {
    "name": "ipython",
    "version": 3
   },
   "file_extension": ".py",
   "mimetype": "text/x-python",
   "name": "python",
   "nbconvert_exporter": "python",
   "pygments_lexer": "ipython3",
   "version": "3.7.4"
  }
 },
 "nbformat": 4,
 "nbformat_minor": 2
}
